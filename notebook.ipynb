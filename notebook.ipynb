{
 "cells": [
  {
   "cell_type": "markdown",
   "id": "5d7061e9",
   "metadata": {},
   "source": [
    "# Analysis of Tesla PAB\n",
    "\n",
    "This jupyter notebook presents the data along with the calculations for added transparency. Section 1 will read the data and create functions and plots, while [Section 2](#results) will show the data and plots.\n",
    "\n",
    "To run all the cells, click **Kernel** > **Restart and Run All**.\n",
    "\n",
    "Each cell can be run individually with **Shift + Enter**."
   ]
  },
  {
   "cell_type": "code",
   "execution_count": 11,
   "id": "b79877f1",
   "metadata": {},
   "outputs": [
    {
     "data": {
      "text/html": [
       "<script>\n",
       "code_show=true; \n",
       "function code_toggle() {\n",
       " if (code_show){\n",
       " $('div.input').hide();\n",
       " } else {\n",
       " $('div.input').show();\n",
       " }\n",
       " code_show = !code_show\n",
       "} \n",
       "$( document ).ready(code_toggle);\n",
       "</script>\n",
       "<form action=\"javascript:code_toggle()\"><input type=\"submit\" value=\"Click here to toggle on/off the raw code.\"></form>"
      ],
      "text/plain": [
       "<IPython.core.display.HTML object>"
      ]
     },
     "execution_count": 11,
     "metadata": {},
     "output_type": "execute_result"
    }
   ],
   "source": [
    "from IPython.display import HTML\n",
    "\n",
    "HTML('''<script>\n",
    "code_show=true; \n",
    "function code_toggle() {\n",
    " if (code_show){\n",
    " $('div.input').hide();\n",
    " } else {\n",
    " $('div.input').show();\n",
    " }\n",
    " code_show = !code_show\n",
    "} \n",
    "$( document ).ready(code_toggle);\n",
    "</script>\n",
    "<form action=\"javascript:code_toggle()\"><input type=\"submit\" value=\"Click here to toggle on/off the raw code.\"></form>''')"
   ]
  },
  {
   "cell_type": "markdown",
   "id": "dc3fc3e1",
   "metadata": {},
   "source": [
    "## 1 Preparation"
   ]
  },
  {
   "cell_type": "markdown",
   "id": "6168eaf7",
   "metadata": {},
   "source": [
    "### 1.1 Python Packages\n",
    "\n",
    "Pandas will be used for manipulating the excel table data, while seaborn will help with displaying the plots."
   ]
  },
  {
   "cell_type": "code",
   "execution_count": 1,
   "id": "086aa3b3",
   "metadata": {},
   "outputs": [],
   "source": [
    "import os\n",
    "import pandas as pd\n",
    "import seaborn as sns\n",
    "sns.set(font_scale=2)\n",
    "import numpy as np\n",
    "import matplotlib.pyplot as plt\n",
    "import ipywidgets as widgets\n",
    "from IPython.display import display, clear_output\n",
    "# https://towardsdatascience.com/bring-your-jupyter-notebook-to-life-with-interactive-widgets-bc12e03f0916 "
   ]
  },
  {
   "cell_type": "markdown",
   "id": "88651113",
   "metadata": {},
   "source": [
    "Next we read the excel sheets representing the front, and side data results from the MLCT program. We'll extract just the columns we need with the double brackets, then display the first 5 rows of the front dataframe (front_df)."
   ]
  },
  {
   "cell_type": "code",
   "execution_count": 2,
   "id": "8c043375",
   "metadata": {},
   "outputs": [
    {
     "data": {
      "text/html": [
       "<div>\n",
       "<style scoped>\n",
       "    .dataframe tbody tr th:only-of-type {\n",
       "        vertical-align: middle;\n",
       "    }\n",
       "\n",
       "    .dataframe tbody tr th {\n",
       "        vertical-align: top;\n",
       "    }\n",
       "\n",
       "    .dataframe thead th {\n",
       "        text-align: right;\n",
       "    }\n",
       "</style>\n",
       "<table border=\"1\" class=\"dataframe\">\n",
       "  <thead>\n",
       "    <tr style=\"text-align: right;\">\n",
       "      <th></th>\n",
       "      <th>Frame</th>\n",
       "      <th>sample</th>\n",
       "      <th>Raw Score</th>\n",
       "    </tr>\n",
       "    <tr>\n",
       "      <th>Date</th>\n",
       "      <th></th>\n",
       "      <th></th>\n",
       "      <th></th>\n",
       "    </tr>\n",
       "  </thead>\n",
       "  <tbody>\n",
       "    <tr>\n",
       "      <th>2021-08-30 07:24:55</th>\n",
       "      <td>10</td>\n",
       "      <td>CS656175421068AAFC</td>\n",
       "      <td>1042.895535</td>\n",
       "    </tr>\n",
       "    <tr>\n",
       "      <th>2021-08-31 03:54:20</th>\n",
       "      <td>10</td>\n",
       "      <td>CS656175421069ABBO</td>\n",
       "      <td>1326.435597</td>\n",
       "    </tr>\n",
       "    <tr>\n",
       "      <th>2021-09-01 03:30:02</th>\n",
       "      <td>10</td>\n",
       "      <td>CS656175421069AAVF</td>\n",
       "      <td>1087.877107</td>\n",
       "    </tr>\n",
       "    <tr>\n",
       "      <th>2021-09-02 03:02:26</th>\n",
       "      <td>10</td>\n",
       "      <td>CS656175421069AAOQ</td>\n",
       "      <td>975.204843</td>\n",
       "    </tr>\n",
       "    <tr>\n",
       "      <th>2021-09-03 03:06:55</th>\n",
       "      <td>10</td>\n",
       "      <td>CS656175421069AAAD</td>\n",
       "      <td>1054.360063</td>\n",
       "    </tr>\n",
       "  </tbody>\n",
       "</table>\n",
       "</div>"
      ],
      "text/plain": [
       "                     Frame              sample    Raw Score\n",
       "Date                                                       \n",
       "2021-08-30 07:24:55     10  CS656175421068AAFC  1042.895535\n",
       "2021-08-31 03:54:20     10  CS656175421069ABBO  1326.435597\n",
       "2021-09-01 03:30:02     10  CS656175421069AAVF  1087.877107\n",
       "2021-09-02 03:02:26     10  CS656175421069AAOQ   975.204843\n",
       "2021-09-03 03:06:55     10  CS656175421069AAAD  1054.360063"
      ]
     },
     "execution_count": 2,
     "metadata": {},
     "output_type": "execute_result"
    }
   ],
   "source": [
    "# read excel sheets for AOA data\n",
    "front_aoa_df = pd.read_excel(r'data/front_data.xlsx', index_col='completed')[['Frame', 'sample', 'Raw Score']]\n",
    "side_aoa_df = pd.read_excel(r'data/side_data.xlsx', index_col='completed')[['Frame', 'sample', 'Raw Score']]\n",
    "\n",
    "# Rename index column\n",
    "front_aoa_df.index.name = 'Date'\n",
    "side_aoa_df.index.name = 'Date'\n",
    "\n",
    "# Remove first data point\n",
    "front_aoa_df = front_aoa_df.iloc[7:]\n",
    "side_aoa_df = side_aoa_df.iloc[7:]\n",
    "\n",
    "# Show preview\n",
    "front_aoa_df[front_aoa_df['Frame'] == 10].head()"
   ]
  },
  {
   "cell_type": "code",
   "execution_count": 3,
   "id": "2149524b",
   "metadata": {},
   "outputs": [
    {
     "data": {
      "text/html": [
       "<div>\n",
       "<style scoped>\n",
       "    .dataframe tbody tr th:only-of-type {\n",
       "        vertical-align: middle;\n",
       "    }\n",
       "\n",
       "    .dataframe tbody tr th {\n",
       "        vertical-align: top;\n",
       "    }\n",
       "\n",
       "    .dataframe thead th {\n",
       "        text-align: right;\n",
       "    }\n",
       "</style>\n",
       "<table border=\"1\" class=\"dataframe\">\n",
       "  <thead>\n",
       "    <tr style=\"text-align: right;\">\n",
       "      <th></th>\n",
       "      <th>Frame</th>\n",
       "      <th>sample</th>\n",
       "      <th>Raw Score</th>\n",
       "    </tr>\n",
       "    <tr>\n",
       "      <th>Date</th>\n",
       "      <th></th>\n",
       "      <th></th>\n",
       "      <th></th>\n",
       "    </tr>\n",
       "  </thead>\n",
       "  <tbody>\n",
       "    <tr>\n",
       "      <th>2021-08-30 07:24:55</th>\n",
       "      <td>10</td>\n",
       "      <td>CS656175421068AAFC</td>\n",
       "      <td>1794.292271</td>\n",
       "    </tr>\n",
       "    <tr>\n",
       "      <th>2021-08-31 03:54:20</th>\n",
       "      <td>10</td>\n",
       "      <td>CS656175421069ABBO</td>\n",
       "      <td>1651.935818</td>\n",
       "    </tr>\n",
       "    <tr>\n",
       "      <th>2021-09-01 03:30:02</th>\n",
       "      <td>10</td>\n",
       "      <td>CS656175421069AAVF</td>\n",
       "      <td>1833.307798</td>\n",
       "    </tr>\n",
       "    <tr>\n",
       "      <th>2021-09-02 03:02:26</th>\n",
       "      <td>10</td>\n",
       "      <td>CS656175421069AAOQ</td>\n",
       "      <td>2063.317460</td>\n",
       "    </tr>\n",
       "    <tr>\n",
       "      <th>2021-09-03 03:06:55</th>\n",
       "      <td>10</td>\n",
       "      <td>CS656175421069AAAD</td>\n",
       "      <td>1528.661836</td>\n",
       "    </tr>\n",
       "  </tbody>\n",
       "</table>\n",
       "</div>"
      ],
      "text/plain": [
       "                     Frame              sample    Raw Score\n",
       "Date                                                       \n",
       "2021-08-30 07:24:55     10  CS656175421068AAFC  1794.292271\n",
       "2021-08-31 03:54:20     10  CS656175421069ABBO  1651.935818\n",
       "2021-09-01 03:30:02     10  CS656175421069AAVF  1833.307798\n",
       "2021-09-02 03:02:26     10  CS656175421069AAOQ  2063.317460\n",
       "2021-09-03 03:06:55     10  CS656175421069AAAD  1528.661836"
      ]
     },
     "execution_count": 3,
     "metadata": {},
     "output_type": "execute_result"
    }
   ],
   "source": [
    "side_aoa_df[side_aoa_df['Frame'] == 10].head()"
   ]
  },
  {
   "cell_type": "markdown",
   "id": "9c144893",
   "metadata": {},
   "source": [
    "Next we'll create fake data for data from china (in the meantime before the data is gathered)"
   ]
  },
  {
   "cell_type": "code",
   "execution_count": 4,
   "id": "947a6222",
   "metadata": {},
   "outputs": [
    {
     "data": {
      "text/html": [
       "<div>\n",
       "<style scoped>\n",
       "    .dataframe tbody tr th:only-of-type {\n",
       "        vertical-align: middle;\n",
       "    }\n",
       "\n",
       "    .dataframe tbody tr th {\n",
       "        vertical-align: top;\n",
       "    }\n",
       "\n",
       "    .dataframe thead th {\n",
       "        text-align: right;\n",
       "    }\n",
       "</style>\n",
       "<table border=\"1\" class=\"dataframe\">\n",
       "  <thead>\n",
       "    <tr style=\"text-align: right;\">\n",
       "      <th></th>\n",
       "      <th>Frame</th>\n",
       "      <th>sample</th>\n",
       "      <th>Raw Score</th>\n",
       "    </tr>\n",
       "    <tr>\n",
       "      <th>Date</th>\n",
       "      <th></th>\n",
       "      <th></th>\n",
       "      <th></th>\n",
       "    </tr>\n",
       "  </thead>\n",
       "  <tbody>\n",
       "    <tr>\n",
       "      <th>2021-08-27 03:44:59</th>\n",
       "      <td>13</td>\n",
       "      <td>CS656175421068AAMD</td>\n",
       "      <td>1021.293526</td>\n",
       "    </tr>\n",
       "    <tr>\n",
       "      <th>2021-08-27 03:44:59</th>\n",
       "      <td>40</td>\n",
       "      <td>CS656175421068AAMD</td>\n",
       "      <td>1385.565424</td>\n",
       "    </tr>\n",
       "    <tr>\n",
       "      <th>2021-08-27 03:44:59</th>\n",
       "      <td>16</td>\n",
       "      <td>CS656175421068AAMD</td>\n",
       "      <td>2001.247146</td>\n",
       "    </tr>\n",
       "    <tr>\n",
       "      <th>2021-08-27 03:44:59</th>\n",
       "      <td>25</td>\n",
       "      <td>CS656175421068AAMD</td>\n",
       "      <td>1091.966940</td>\n",
       "    </tr>\n",
       "    <tr>\n",
       "      <th>2021-08-27 03:44:59</th>\n",
       "      <td>19</td>\n",
       "      <td>CS656175421068AAMD</td>\n",
       "      <td>595.730894</td>\n",
       "    </tr>\n",
       "  </tbody>\n",
       "</table>\n",
       "</div>"
      ],
      "text/plain": [
       "                     Frame              sample    Raw Score\n",
       "Date                                                       \n",
       "2021-08-27 03:44:59     13  CS656175421068AAMD  1021.293526\n",
       "2021-08-27 03:44:59     40  CS656175421068AAMD  1385.565424\n",
       "2021-08-27 03:44:59     16  CS656175421068AAMD  2001.247146\n",
       "2021-08-27 03:44:59     25  CS656175421068AAMD  1091.966940\n",
       "2021-08-27 03:44:59     19  CS656175421068AAMD   595.730894"
      ]
     },
     "execution_count": 4,
     "metadata": {},
     "output_type": "execute_result"
    }
   ],
   "source": [
    "# Copy the first datasets\n",
    "front_acs_df = front_aoa_df.copy()\n",
    "side_acs_df = side_aoa_df.copy()\n",
    "\n",
    "# Add random noise to scores\n",
    "noise_range = 1500\n",
    "front_acs_df['Raw Score'] = front_acs_df['Raw Score'] - noise_range/2 + np.random.randint(noise_range, size=len(front_acs_df))\n",
    "side_acs_df['Raw Score'] =  side_acs_df['Raw Score'] - noise_range/2 + np.random.randint(noise_range, size=len(side_acs_df))\n",
    "\n",
    "# Show preview\n",
    "front_acs_df.head()"
   ]
  },
  {
   "cell_type": "markdown",
   "id": "f068a7cb",
   "metadata": {},
   "source": [
    "### 1.2 $\\bar{X}$ and MR Chart\n",
    "\n",
    "We'll create a function that takes the dataframe, frame number (in milliseconds), and a time period to group data by. The function will provide an $\\bar{X}$ and MR plot. (Mean and Moving Range)."
   ]
  },
  {
   "cell_type": "code",
   "execution_count": 5,
   "id": "fb2a3325",
   "metadata": {},
   "outputs": [],
   "source": [
    "def x_bar_and_mr(orientation, frame, time_period):\n",
    "    if orientation == 'Front':\n",
    "        aoa_df = front_aoa_df.copy()\n",
    "        acs_df = front_acs_df.copy()\n",
    "    else:\n",
    "        aoa_df = side_aoa_df.copy()\n",
    "        acs_df = side_acs_df.copy()\n",
    "#     aoa_df['Facility'] = 'AOA'\n",
    "#     acs_df['Facility'] = 'ACS'\n",
    "#     df1 = pd.concat([aoa_df, acs_df])\n",
    "            \n",
    "    aoa_df = aoa_df[aoa_df['Frame'] == frame]\n",
    "    acs_df = acs_df[acs_df['Frame'] == frame]\n",
    "    \n",
    "    if time_period.lower() == 'all':\n",
    "        scores_aoa = aoa_df.copy()\n",
    "        scores_acs = acs_df.copy()\n",
    "    else:\n",
    "        scores_aoa = aoa_df.resample(time_period).mean().dropna()[['Raw Score']]\n",
    "        scores_acs = acs_df.resample(time_period).mean().dropna()[['Raw Score']]\n",
    "\n",
    "    ranges_aoa = scores_aoa.copy()\n",
    "    ranges_acs = scores_acs.copy()\n",
    "    \n",
    "    ranges_aoa = ranges_aoa.shift(1)\n",
    "    ranges_acs = ranges_acs.shift(1)\n",
    "    \n",
    "    ranges_aoa['Prev'] = ranges_aoa['Raw Score']\n",
    "    ranges_acs['Prev'] = ranges_acs['Raw Score']\n",
    "    \n",
    "    ranges_aoa['Range'] = scores_aoa['Raw Score'] - ranges_aoa['Prev']\n",
    "    ranges_acs['Range'] = scores_acs['Raw Score'] - ranges_acs['Prev']\n",
    "\n",
    "    # Define plot\n",
    "    fig, (ax1, ax2) = plt.subplots(2, figsize=(15, 10), sharex=True)\n",
    "    fig.suptitle(r'$\\bar{{{0}}}$ & MR chart ({1}, {2} ms)'.format('X', orientation, frame), fontsize=20)\n",
    "    # X Bar chart\n",
    "    sns.lineplot(ax=ax1, y='Raw Score', x=scores_aoa.index, marker='o', data=scores_aoa, color='k')\n",
    "    sns.lineplot(ax=ax1, y='Raw Score', x=scores_aoa.index, marker='o', data=scores_acs, color='y')\n",
    "    mean = scores_aoa['Raw Score'].mean()\n",
    "    cl = 3*scores_aoa['Raw Score'].std()\n",
    "    ucl = mean + cl\n",
    "    lcl = mean - cl\n",
    "    ax1.axhline(scores_aoa['Raw Score'].mean(), color='b')\n",
    "    ax1.axhline(ucl, color='r', linestyle='dashed')\n",
    "    ax1.axhline(lcl, color='r', linestyle='dashed')\n",
    "    ax1.set_ylabel(r'$\\bar{{{0}}}$'.format('X'))\n",
    "    ax1.set_xlabel('')\n",
    "\n",
    "    # Moving Range chart\n",
    "    sns.lineplot(ax=ax2, y='Range', x=ranges_aoa.index, marker='o', data=ranges_aoa, color='k')\n",
    "    sns.lineplot(ax=ax2, y='Range', x=ranges_acs.index, marker='o', data=ranges_acs, color='y')\n",
    "    mean = ranges_aoa['Range'].mean()\n",
    "    cl = 3*ranges_aoa['Range'].std()\n",
    "    ucl = mean + cl\n",
    "    lcl = mean - cl\n",
    "    ax2.axhline(ranges_aoa['Range'].mean(), color='b')\n",
    "    ax2.axhline(ucl, color='r', linestyle='dashed')\n",
    "    ax2.axhline(lcl, color='r', linestyle='dashed')\n",
    "    ax2.set_ylabel('MR')\n",
    "    ax2.set_xlabel('Date')\n",
    "    plt.savefig('xbarmr.png')\n",
    "    plt.show()"
   ]
  },
  {
   "cell_type": "code",
   "execution_count": 6,
   "id": "4f5e447b",
   "metadata": {},
   "outputs": [],
   "source": [
    "def comparison_graph(orientation, frame, plot_type, split, show_points):\n",
    "    front_df = front_aoa_df.copy()\n",
    "    front_df['AOA'] = front_aoa_df['Raw Score']\n",
    "    front_df['ACS'] = front_acs_df['Raw Score']\n",
    "    front_df['orientation'] = 'Front'\n",
    "    front_df = front_df[front_df['Frame'] == frame]\n",
    "    front_df_m = pd.melt(front_df[['AOA', 'ACS', 'orientation']], id_vars=['orientation'], var_name='Facility')\n",
    "    \n",
    "    side_df = side_aoa_df.copy()\n",
    "    side_df['AOA'] = side_aoa_df['Raw Score']\n",
    "    side_df['ACS'] = side_acs_df['Raw Score']\n",
    "    side_df['orientation'] = 'Side'\n",
    "    side_df = side_df[side_df['Frame'] == frame]\n",
    "    side_df_m = pd.melt(side_df[['AOA', 'ACS', 'orientation']], id_vars=['orientation'], var_name='Facility')\n",
    "    \n",
    "    this_df = pd.concat([front_df_m, side_df_m])\n",
    "    \n",
    "    if orientation.lower() == 'all':\n",
    "        pass\n",
    "    else:\n",
    "        this_df = this_df[this_df['orientation'] == orientation]\n",
    "\n",
    "    # Plotting section\n",
    "    if split == True and orientation.lower() != 'all':\n",
    "        print('Orientation:', orientation)\n",
    "        print('Error, orientation must be set to All for split plots')\n",
    "        return\n",
    "    \n",
    "    fig, ax = plt.subplots(figsize=(15, 10))\n",
    "    \n",
    "    if plot_type == 'violin':\n",
    "        if split == True:\n",
    "            sns.violinplot(data=this_df, x='Facility', y='value', hue='orientation', split=True, inner='quart')\n",
    "            if show_points:\n",
    "                sns.swarmplot(data=this_df, x='Facility', y='value', color='k', hue='orientation', alpha=0.5, dodge=True)\n",
    "        else:\n",
    "            sns.violinplot(data=this_df, x='Facility', y='value', inner='quart')\n",
    "            if show_points:\n",
    "                sns.swarmplot(data=this_df, x='Facility', y='value', color='k', alpha=0.5)\n",
    "    elif plot_type == 'box':\n",
    "        if split == True:\n",
    "            sns.boxplot(data=this_df, x='Facility', y='value', hue='orientation')\n",
    "            if show_points:\n",
    "                sns.swarmplot(data=this_df, x='Facility', y='value', hue='orientation', color='k', alpha=0.5, dodge=True)\n",
    "        else:\n",
    "            sns.boxplot(data=this_df, x='Facility', y='value')\n",
    "            if show_points:\n",
    "                sns.swarmplot(data=this_df, x='Facility', y='value', color='k', alpha=0.5)\n",
    "    \n",
    "    fig.suptitle(r'Pixel-wise Mean Squared Error at {0} ms'.format(frame), fontsize=20)\n",
    "    plt.ylabel('Error Score')\n",
    "    plt.show()\n",
    "    \n",
    "# comparison_graph('Front', 10, 'violin', True, True)"
   ]
  },
  {
   "cell_type": "markdown",
   "id": "6399b3e5",
   "metadata": {},
   "source": [
    "This snippet provides a simple user interface to select the frame and time to group the data by. It is defined here, but implemented in section 2."
   ]
  },
  {
   "cell_type": "code",
   "execution_count": 7,
   "id": "b0a0eda4",
   "metadata": {},
   "outputs": [],
   "source": [
    "dialog_xbmr = widgets.Output()\n",
    "charts_xbmr = widgets.Output()\n",
    "\n",
    "frames = front_aoa_df.sort_values(by='Frame')['Frame'].unique().tolist()\n",
    "lbl_frame = widgets.Label('Frame Number (ms)')\n",
    "drop_down_frame_1 = widgets.Dropdown(options = frames)\n",
    "lbl_orientation = widgets.Label('Orientation (Front/side)')\n",
    "drop_down_orientation_1 = widgets.Dropdown(options = ['Front', 'Side'])\n",
    "lbl_time = widgets.Label('Time Period for Resampling')\n",
    "drop_down_time = widgets.Dropdown(options = [('All', 'all'), ('Day', 'D'), ('Week', 'W'), ('Month', 'M')])\n",
    "btn = widgets.Button(description='Refresh XBar and MR chart')\n",
    "label_frames = widgets.VBox([lbl_frame, drop_down_frame_1, lbl_orientation, drop_down_orientation_1])\n",
    "label_dropdowns = widgets.VBox([lbl_time, drop_down_time])\n",
    "labels = widgets.HBox([label_frames, label_dropdowns])\n",
    "\n",
    "def show_chart(b):\n",
    "    with charts_xbmr:\n",
    "        charts_xbmr.clear_output()\n",
    "        x_bar_and_mr(drop_down_orientation_1.value, drop_down_frame_1.value, drop_down_time.value)\n",
    "            \n",
    "with dialog_xbmr:\n",
    "    display(labels)\n",
    "    display(btn)\n",
    "    \n",
    "    btn.on_click(show_chart)"
   ]
  },
  {
   "cell_type": "code",
   "execution_count": 8,
   "id": "bf3cea1b",
   "metadata": {},
   "outputs": [],
   "source": [
    "dialog_comp = widgets.Output()\n",
    "charts_comp = widgets.Output()\n",
    "\n",
    "drop_down_frame_2 = widgets.Dropdown(options = frames)\n",
    "drop_down_orientation_2 = widgets.Dropdown(options = ['All', 'Front', 'Side'])\n",
    "lbl_plot = widgets.Label('Plot Type')\n",
    "drop_down_plot = widgets.Dropdown(options = [('Violin', 'violin'), ('Box', 'box')])\n",
    "# lbl_split = widgets.Label('Split by Orientation')\n",
    "check_split = widgets.Checkbox(description='Split by Orientation')\n",
    "# lbl_points = widgets.Label('Show Points')\n",
    "check_points = widgets.Checkbox(description='Show Points')\n",
    "\n",
    "btn_comp = widgets.Button(description='Refresh')\n",
    "\n",
    "labels_1 = widgets.VBox([lbl_frame, drop_down_frame_2, \n",
    "                         lbl_orientation, drop_down_orientation_2, \n",
    "                         lbl_plot, drop_down_plot])\n",
    "labels_2 = widgets.VBox([check_split, check_points])\n",
    "labels = widgets.HBox([labels_1, labels_2])\n",
    "\n",
    "def show_chart(b):\n",
    "    with charts_comp:\n",
    "        charts_comp.clear_output()\n",
    "        comparison_graph(drop_down_orientation_2.value, \n",
    "                         drop_down_frame_2.value, \n",
    "                         drop_down_plot.value,\n",
    "                         check_split.value,\n",
    "                         check_points.value)\n",
    "        \n",
    "with dialog_comp:\n",
    "    display(labels)\n",
    "    display(btn_comp)\n",
    "    \n",
    "    btn_comp.on_click(show_chart)"
   ]
  },
  {
   "cell_type": "markdown",
   "id": "cf46dd40",
   "metadata": {},
   "source": [
    "<a id='results'></a>\n",
    "## 2 Results "
   ]
  },
  {
   "cell_type": "markdown",
   "id": "bd101086",
   "metadata": {},
   "source": [
    "### 2.1 $\\bar{X}$ and MR Chart"
   ]
  },
  {
   "cell_type": "code",
   "execution_count": 9,
   "id": "e5c88d27",
   "metadata": {
    "scrolled": false
   },
   "outputs": [
    {
     "data": {
      "application/vnd.jupyter.widget-view+json": {
       "model_id": "a64dd9ec29f845a6bb9afe30bae792c9",
       "version_major": 2,
       "version_minor": 0
      },
      "text/plain": [
       "Output()"
      ]
     },
     "metadata": {},
     "output_type": "display_data"
    },
    {
     "data": {
      "application/vnd.jupyter.widget-view+json": {
       "model_id": "b092528bd24a44d59a5e95fdb6f1f359",
       "version_major": 2,
       "version_minor": 0
      },
      "text/plain": [
       "Output()"
      ]
     },
     "metadata": {},
     "output_type": "display_data"
    }
   ],
   "source": [
    "display(dialog_xbmr)\n",
    "display(charts_xbmr)"
   ]
  },
  {
   "cell_type": "markdown",
   "id": "98bd34c2",
   "metadata": {},
   "source": [
    "### 2.2 Comparison Charts"
   ]
  },
  {
   "cell_type": "code",
   "execution_count": 10,
   "id": "1556ddfb",
   "metadata": {
    "scrolled": false
   },
   "outputs": [
    {
     "data": {
      "application/vnd.jupyter.widget-view+json": {
       "model_id": "655a1ad9387c4200a47ddb10a0225add",
       "version_major": 2,
       "version_minor": 0
      },
      "text/plain": [
       "Output()"
      ]
     },
     "metadata": {},
     "output_type": "display_data"
    },
    {
     "data": {
      "application/vnd.jupyter.widget-view+json": {
       "model_id": "e5d9b6044df7454084b0cbffcd69a27b",
       "version_major": 2,
       "version_minor": 0
      },
      "text/plain": [
       "Output()"
      ]
     },
     "metadata": {},
     "output_type": "display_data"
    }
   ],
   "source": [
    "display(dialog_comp)\n",
    "display(charts_comp)"
   ]
  }
 ],
 "metadata": {
  "kernelspec": {
   "display_name": "venv",
   "language": "python",
   "name": "venv"
  },
  "language_info": {
   "codemirror_mode": {
    "name": "ipython",
    "version": 3
   },
   "file_extension": ".py",
   "mimetype": "text/x-python",
   "name": "python",
   "nbconvert_exporter": "python",
   "pygments_lexer": "ipython3",
   "version": "3.7.4"
  }
 },
 "nbformat": 4,
 "nbformat_minor": 5
}
