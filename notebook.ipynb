{
 "cells": [
  {
   "cell_type": "markdown",
   "id": "5d7061e9",
   "metadata": {},
   "source": [
    "# Analysis of Tesla PAB\n",
    "\n",
    "This jupyter notebook presents the data along with the calculations for added transparency. Section 1 will read the data and create functions and plots, while [Section 2](#results) will show the data and plots."
   ]
  },
  {
   "cell_type": "markdown",
   "id": "dc3fc3e1",
   "metadata": {},
   "source": [
    "## 1 Preparation"
   ]
  },
  {
   "cell_type": "markdown",
   "id": "6168eaf7",
   "metadata": {},
   "source": [
    "### 1.1 Python Packages\n",
    "\n",
    "Pandas will be used for manipulating the excel table data, while seaborn will help with displaying the plots."
   ]
  },
  {
   "cell_type": "code",
   "execution_count": 1,
   "id": "086aa3b3",
   "metadata": {},
   "outputs": [],
   "source": [
    "import os\n",
    "import pandas as pd\n",
    "import seaborn as sns\n",
    "sns.set()\n",
    "import numpy as np\n",
    "import matplotlib.pyplot as plt\n",
    "import ipywidgets as widgets\n",
    "from IPython.display import display, clear_output\n",
    "# https://towardsdatascience.com/bring-your-jupyter-notebook-to-life-with-interactive-widgets-bc12e03f0916 "
   ]
  },
  {
   "cell_type": "markdown",
   "id": "88651113",
   "metadata": {},
   "source": [
    "Next we read the excel sheets representing the front, and side data results from the MLCT program. We'll extract just the columns we need with the double brackets, then display the first 5 rows of the front dataframe (front_df)."
   ]
  },
  {
   "cell_type": "code",
   "execution_count": 2,
   "id": "8c043375",
   "metadata": {},
   "outputs": [
    {
     "data": {
      "text/html": [
       "<div>\n",
       "<style scoped>\n",
       "    .dataframe tbody tr th:only-of-type {\n",
       "        vertical-align: middle;\n",
       "    }\n",
       "\n",
       "    .dataframe tbody tr th {\n",
       "        vertical-align: top;\n",
       "    }\n",
       "\n",
       "    .dataframe thead th {\n",
       "        text-align: right;\n",
       "    }\n",
       "</style>\n",
       "<table border=\"1\" class=\"dataframe\">\n",
       "  <thead>\n",
       "    <tr style=\"text-align: right;\">\n",
       "      <th></th>\n",
       "      <th>Frame</th>\n",
       "      <th>sample</th>\n",
       "      <th>Raw Score</th>\n",
       "    </tr>\n",
       "    <tr>\n",
       "      <th>Date</th>\n",
       "      <th></th>\n",
       "      <th></th>\n",
       "      <th></th>\n",
       "    </tr>\n",
       "  </thead>\n",
       "  <tbody>\n",
       "    <tr>\n",
       "      <th>2021-01-27 20:17:24</th>\n",
       "      <td>16</td>\n",
       "      <td>CS656175421015AAXZ</td>\n",
       "      <td>567.452957</td>\n",
       "    </tr>\n",
       "    <tr>\n",
       "      <th>2021-01-27 20:17:24</th>\n",
       "      <td>40</td>\n",
       "      <td>CS656175421015AAXZ</td>\n",
       "      <td>436.407660</td>\n",
       "    </tr>\n",
       "    <tr>\n",
       "      <th>2021-01-27 20:17:24</th>\n",
       "      <td>25</td>\n",
       "      <td>CS656175421015AAXZ</td>\n",
       "      <td>644.879494</td>\n",
       "    </tr>\n",
       "    <tr>\n",
       "      <th>2021-01-27 20:17:24</th>\n",
       "      <td>13</td>\n",
       "      <td>CS656175421015AAXZ</td>\n",
       "      <td>491.289790</td>\n",
       "    </tr>\n",
       "    <tr>\n",
       "      <th>2021-01-27 20:17:24</th>\n",
       "      <td>19</td>\n",
       "      <td>CS656175421015AAXZ</td>\n",
       "      <td>883.335840</td>\n",
       "    </tr>\n",
       "  </tbody>\n",
       "</table>\n",
       "</div>"
      ],
      "text/plain": [
       "                     Frame              sample   Raw Score\n",
       "Date                                                      \n",
       "2021-01-27 20:17:24     16  CS656175421015AAXZ  567.452957\n",
       "2021-01-27 20:17:24     40  CS656175421015AAXZ  436.407660\n",
       "2021-01-27 20:17:24     25  CS656175421015AAXZ  644.879494\n",
       "2021-01-27 20:17:24     13  CS656175421015AAXZ  491.289790\n",
       "2021-01-27 20:17:24     19  CS656175421015AAXZ  883.335840"
      ]
     },
     "execution_count": 2,
     "metadata": {},
     "output_type": "execute_result"
    }
   ],
   "source": [
    "front_df = pd.read_excel(r'data/front_data.xlsx', index_col='completed')[['Frame', 'sample', 'Raw Score']]\n",
    "side_df = pd.read_excel(r'data/side_data.xlsx', index_col='completed')[['Frame', 'sample', 'Raw Score']]\n",
    "front_df.index.name = 'Date'\n",
    "side_df.index.name = 'Date'\n",
    "front_df.head()"
   ]
  },
  {
   "cell_type": "markdown",
   "id": "f068a7cb",
   "metadata": {},
   "source": [
    "### 1.2 $\\bar{X}$ and MR Chart\n",
    "\n",
    "We'll create a function that takes the dataframe, frame number (in milliseconds), and a time period to group data by. The function will provide an $\\bar{X}$ and MR plot. (Mean and Moving Range)."
   ]
  },
  {
   "cell_type": "code",
   "execution_count": 3,
   "id": "fb2a3325",
   "metadata": {},
   "outputs": [],
   "source": [
    "def x_bar_and_mr(df, frame, time_period):\n",
    "    this_df = df.copy()\n",
    "    df1 = this_df[this_df['Frame'] == frame]\n",
    "    \n",
    "    if time_period.lower() == 'all':\n",
    "        scores = df1.copy()\n",
    "    else:\n",
    "        scores = df1.resample(time_period).mean().dropna()[['Raw Score']]\n",
    "\n",
    "    ranges = scores.copy()\n",
    "    ranges = ranges.shift(1)\n",
    "    ranges['Prev'] = scores['Raw Score']\n",
    "    ranges['Range'] = ranges['Raw Score'] - ranges['Prev']\n",
    "\n",
    "    # Define plot\n",
    "    fig, (ax1, ax2) = plt.subplots(2, figsize=(15, 10), sharex=True)\n",
    "    fig.suptitle(r'$\\bar{{{0}}}$ & MR chart for {1} ms'.format('X', frame), fontsize=20)\n",
    "    # X Bar chart\n",
    "    sns.lineplot(ax=ax1, y='Raw Score', x=scores.index, marker='o', data=scores, color='k')\n",
    "    mean = scores['Raw Score'].mean()\n",
    "    cl = 3*scores['Raw Score'].std()\n",
    "    ucl = mean + cl\n",
    "    lcl = mean - cl\n",
    "    ax1.axhline(scores['Raw Score'].mean(), color='b')\n",
    "    ax1.axhline(ucl, color='r', linestyle='dashed')\n",
    "    ax1.axhline(lcl, color='r', linestyle='dashed')\n",
    "    ax1.set_ylabel(r'$\\bar{{{0}}}$'.format('X'))\n",
    "    ax1.set_xlabel('')\n",
    "\n",
    "    # Moving Range chart\n",
    "    sns.lineplot(ax=ax2, y='Range', x=ranges.index, marker='o', data=ranges, color='k')\n",
    "    mean = ranges['Range'].mean()\n",
    "    cl = 3*ranges['Range'].std()\n",
    "    ucl = mean + cl\n",
    "    lcl = mean - cl\n",
    "    ax2.axhline(ranges['Range'].mean(), color='b')\n",
    "    ax2.axhline(ucl, color='r', linestyle='dashed')\n",
    "    ax2.axhline(lcl, color='r', linestyle='dashed')\n",
    "    ax2.set_ylabel('MR')\n",
    "    ax2.set_xlabel('Date')\n",
    "    plt.savefig('xbarmr.png')\n",
    "    plt.show()"
   ]
  },
  {
   "cell_type": "markdown",
   "id": "6399b3e5",
   "metadata": {},
   "source": [
    "This snippet provides a simple user interface to select the frame and time to group the data by. It is defined here, but implemented in section 2."
   ]
  },
  {
   "cell_type": "code",
   "execution_count": 6,
   "id": "b0a0eda4",
   "metadata": {},
   "outputs": [],
   "source": [
    "dialog_xbmr = widgets.Output()\n",
    "charts_xbmr = widgets.Output()\n",
    "\n",
    "frames = front_df.sort_values(by='Frame')['Frame'].unique().tolist()\n",
    "lbl_frame = widgets.Label('Frame Number (ms)')\n",
    "drop_down_frame = widgets.Dropdown(options = frames)\n",
    "lbl_time = widgets.Label('Time Period for Resampling')\n",
    "drop_down_time = widgets.Dropdown(options = [('All', 'all'), ('Day', 'D'), ('Week', 'W'), ('Month', 'M')])\n",
    "btn = widgets.Button(description='Show XBar and MR chart')\n",
    "label_frames = widgets.VBox([lbl_frame, drop_down_frame])\n",
    "label_dropdowns = widgets.VBox([lbl_time, drop_down_time])\n",
    "labels = widgets.HBox([label_frames, label_dropdowns])\n",
    "\n",
    "def show_chart(b):\n",
    "    with charts_xbmr:\n",
    "        charts_xbmr.clear_output()\n",
    "        x_bar_and_mr(front_df, drop_down_frame.value, drop_down_time.value)\n",
    "            \n",
    "with dialog_xbmr:\n",
    "    display(labels)\n",
    "    display(btn)\n",
    "    \n",
    "    btn.on_click(show_chart)"
   ]
  },
  {
   "cell_type": "markdown",
   "id": "cf46dd40",
   "metadata": {},
   "source": [
    "<a id='results'></a>\n",
    "## 2 Results "
   ]
  },
  {
   "cell_type": "markdown",
   "id": "bd101086",
   "metadata": {},
   "source": [
    "### 2.1 $\\bar{X}$ and MR Chart"
   ]
  },
  {
   "cell_type": "code",
   "execution_count": 7,
   "id": "e5c88d27",
   "metadata": {},
   "outputs": [
    {
     "data": {
      "application/vnd.jupyter.widget-view+json": {
       "model_id": "51d8e7e1911748faa41a42a2757b8717",
       "version_major": 2,
       "version_minor": 0
      },
      "text/plain": [
       "Output(outputs=({'output_type': 'display_data', 'data': {'text/plain': \"HBox(children=(VBox(children=(Label(va…"
      ]
     },
     "metadata": {},
     "output_type": "display_data"
    },
    {
     "data": {
      "application/vnd.jupyter.widget-view+json": {
       "model_id": "5079f98cbd5546bf9c521091147872c7",
       "version_major": 2,
       "version_minor": 0
      },
      "text/plain": [
       "Output()"
      ]
     },
     "metadata": {},
     "output_type": "display_data"
    }
   ],
   "source": [
    "display(dialog_xbmr)\n",
    "display(charts_xbmr)"
   ]
  },
  {
   "cell_type": "code",
   "execution_count": null,
   "id": "1556ddfb",
   "metadata": {},
   "outputs": [],
   "source": []
  }
 ],
 "metadata": {
  "kernelspec": {
   "display_name": "venv",
   "language": "python",
   "name": "venv"
  },
  "language_info": {
   "codemirror_mode": {
    "name": "ipython",
    "version": 3
   },
   "file_extension": ".py",
   "mimetype": "text/x-python",
   "name": "python",
   "nbconvert_exporter": "python",
   "pygments_lexer": "ipython3",
   "version": "3.7.4"
  }
 },
 "nbformat": 4,
 "nbformat_minor": 5
}
